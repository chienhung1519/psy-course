{
 "cells": [
  {
   "cell_type": "markdown",
   "metadata": {},
   "source": [
    "### Data Process"
   ]
  },
  {
   "cell_type": "code",
   "execution_count": null,
   "metadata": {},
   "outputs": [],
   "source": [
    "import pandas as pd\n",
    "from pathlib import Path\n",
    "\n",
    "EXCLUDE_SHEETS = [\"500篇ID說明\", \"500篇ID處理說明\", \"工作表1\"]\n",
    "COLUMNS = [\n",
    "    \"AID\", \"PID\", \"Admissindate\", \"Sentence\",\n",
    "    \"Duration\", \"Time_YMD\", \"Vague\", \"Age\", \"Ago_YMD\", \"TimeInfo\",\n",
    "    \"Remission\", \"Response\", \"緩解時間\", \"Acute\", \"急性住院時間\", \"DayCare\", \"慢性住院時間\", \"Episode\", \"Episode時間\"\n",
    "]\n",
    "\n",
    "data_dir = \"./data/raw/\"\n",
    "data_dir_path = Path(data_dir)\n",
    "df = pd.DataFrame()\n",
    "for file in data_dir_path.iterdir():\n",
    "    # Load data\n",
    "    data = pd.read_excel(file, sheet_name=None, engine='openpyxl', dtype=str)\n",
    "    # Access sheet name\n",
    "    sheet = pd.ExcelFile(file, engine='openpyxl')\n",
    "    sheet = [s for s in sheet.sheet_names if s not in EXCLUDE_SHEETS]\n",
    "    assert len(sheet) == 1\n",
    "    sheet_name = sheet[0]\n",
    "    # Merge data\n",
    "    df = pd.concat([df, data.get(sheet_name)], ignore_index=False)\n",
    "df = df[COLUMNS]\n",
    "df.head()"
   ]
  },
  {
   "cell_type": "code",
   "execution_count": null,
   "metadata": {},
   "outputs": [],
   "source": [
    "df.Admissindate = pd.to_datetime(df.Admissindate, format=\"%Y-%m-%d\")\n",
    "df.head()"
   ]
  },
  {
   "cell_type": "code",
   "execution_count": 39,
   "metadata": {},
   "outputs": [
    {
     "ename": "AssertionError",
     "evalue": "",
     "output_type": "error",
     "traceback": [
      "\u001b[0;31m---------------------------------------------------------------------------\u001b[0m",
      "\u001b[0;31mAssertionError\u001b[0m                            Traceback (most recent call last)",
      "\u001b[0;32m<ipython-input-39-7abc8f0259b7>\u001b[0m in \u001b[0;36m<module>\u001b[0;34m\u001b[0m\n\u001b[1;32m     64\u001b[0m             \u001b[0;32mif\u001b[0m \u001b[0;32mnot\u001b[0m \u001b[0mpd\u001b[0m\u001b[0;34m.\u001b[0m\u001b[0misna\u001b[0m\u001b[0;34m(\u001b[0m\u001b[0mrow\u001b[0m\u001b[0;34m.\u001b[0m\u001b[0mAgo_YMD\u001b[0m\u001b[0;34m)\u001b[0m\u001b[0;34m:\u001b[0m\u001b[0;34m\u001b[0m\u001b[0;34m\u001b[0m\u001b[0m\n\u001b[1;32m     65\u001b[0m                 \u001b[0mtarget_text\u001b[0m\u001b[0;34m.\u001b[0m\u001b[0mappend\u001b[0m\u001b[0;34m(\u001b[0m\u001b[0;34mf\"ago: {row.Ago_YMD}.\"\u001b[0m\u001b[0;34m)\u001b[0m\u001b[0;34m\u001b[0m\u001b[0;34m\u001b[0m\u001b[0m\n\u001b[0;32m---> 66\u001b[0;31m             \u001b[0;32massert\u001b[0m \u001b[0mlen\u001b[0m\u001b[0;34m(\u001b[0m\u001b[0mtarget_text\u001b[0m\u001b[0;34m)\u001b[0m \u001b[0;34m!=\u001b[0m \u001b[0;36m0\u001b[0m\u001b[0;34m\u001b[0m\u001b[0;34m\u001b[0m\u001b[0m\n\u001b[0m\u001b[1;32m     67\u001b[0m             \u001b[0mtarget_text\u001b[0m \u001b[0;34m=\u001b[0m \u001b[0;34m\" \"\u001b[0m\u001b[0;34m.\u001b[0m\u001b[0mjoin\u001b[0m\u001b[0;34m(\u001b[0m\u001b[0mtarget_text\u001b[0m\u001b[0;34m)\u001b[0m\u001b[0;34m\u001b[0m\u001b[0;34m\u001b[0m\u001b[0m\n\u001b[1;32m     68\u001b[0m \u001b[0;34m\u001b[0m\u001b[0m\n",
      "\u001b[0;31mAssertionError\u001b[0m: "
     ]
    }
   ],
   "source": [
    "TE_COLUMNS = [\"Time_YMD\", \"Vague\", \"Age\", \"Ago_YMD\"]\n",
    "ED_COLUMNs = [\"Remission\", \"Response\", \"Acute\", \"DayCare\", \"Episode\"]\n",
    "\n",
    "processed = {\"aid\": [], \"pid\": [], \"prefix\": [], \"input_text\": [], \"target_text\": []}\n",
    "\n",
    "duration_head = None\n",
    "prev_sentence = None\n",
    "\n",
    "# Event\n",
    "for row in df.itertuples():\n",
    "    # Target text\n",
    "    target_text = []\n",
    "    if not pd.isna(row.Remission) or not pd.isna(row.Response):\n",
    "        target_text.append(\"Remission\")\n",
    "    if not pd.isna(row.Acute):\n",
    "        target_text.append(\"Acute\")\n",
    "    if not pd.isna(row.DayCare):\n",
    "        target_text.append(\"DayCare\")\n",
    "    if not pd.isna(row.Episode):\n",
    "        target_text.append(\"Episode\")\n",
    "    if len(target_text) == 0:\n",
    "        target_text = \"None\"\n",
    "    else:\n",
    "        target_text = \", \".join(target_text)\n",
    "    # Merge to the previous example if the current sentence is the same as previous one\n",
    "    if prev_sentence == row.Sentence:\n",
    "        # Continue if no events and duplicated sentences\n",
    "        if target_text == \"None\":\n",
    "            continue\n",
    "        else:\n",
    "            processed[\"target_text\"] = f\"{processed['target_text']}, {target_text}\"\n",
    "    else:\n",
    "        processed[\"aid\"] = row.AID\n",
    "        processed[\"pid\"] = row.PID\n",
    "        processed[\"prefix\"] = \"event detection\"\n",
    "        processed[\"input_text\"] = f\"{row.Sentence} options: Remission, Acute, DayCare, Episode.\"\n",
    "        processed[\"target_text\"] = target_text\n",
    "    # Store sentence\n",
    "    prev_sentence = row.Sentence\n",
    "\n",
    "# Time\n",
    "for row in df.itertuples():\n",
    "    # Target text is None when TimeInfo column is NaN\n",
    "    if pd.isna(row.TimeInfo):\n",
    "        target_text = \"None\"\n",
    "    else:\n",
    "        # Target text is composed by two lines when duration is not NaN\n",
    "        if not pd.isna(row.Duration):\n",
    "            # Duration head\n",
    "            if duration_head is None:\n",
    "                duration_head = row.Time_YMD\n",
    "                continue\n",
    "            else:\n",
    "                target_text = f\"duration: {duration_head} to {row.Time_YMD}\"\n",
    "                duration_head = None\n",
    "        else:\n",
    "            target_text = []\n",
    "            if not pd.isna(row.Time_YMD):\n",
    "                target_text.append(f\"time: {row.Time_YMD}.\")\n",
    "            if not pd.isna(row.Vague):\n",
    "                target_text.append(f\"vague: {row.Vague}.\")\n",
    "            if not pd.isna(row.Age):\n",
    "                target_text.append(f\"age: {row.Age}.\")\n",
    "            if not pd.isna(row.Ago_YMD):\n",
    "                target_text.append(f\"ago: {row.Ago_YMD}.\")\n",
    "            assert len(target_text) != 0\n",
    "            target_text = \" \".join(target_text)\n",
    "\n",
    "    # Merge to the previous example if the current sentence is the same as previous one\n",
    "    if row.Sentence == prev_sentence:\n",
    "        if target_text != \"None\":\n",
    "            processed[\"target_text\"] = f\"{processed['target_text']} {target_text}\"\n",
    "        else:\n",
    "            continue\n",
    "    else:\n",
    "        processed[\"aid\"] = row.AID\n",
    "        processed[\"pid\"] = row.PID\n",
    "        processed[\"prefix\"] = \"time extraction\"\n",
    "        processed[\"input_text\"] = f\"{row.Sentence} admission date: {row.Admissindate}. options: time, vague, age, ago.\"\n",
    "        processed[\"target_text\"] = target_text\n",
    "    # Store sentence\n",
    "    prev_sentence = row.Sentence\n",
    "\n",
    "# Save\n",
    "processed_file = \"./data/processed/data.xlsx\"\n",
    "processed_df = pd.DataFrame(processed)\n",
    "processed_df.to_excel(processed_file)"
   ]
  }
 ],
 "metadata": {
  "kernelspec": {
   "display_name": "psy-conv",
   "language": "python",
   "name": "psy-conv"
  },
  "language_info": {
   "codemirror_mode": {
    "name": "ipython",
    "version": 3
   },
   "file_extension": ".py",
   "mimetype": "text/x-python",
   "name": "python",
   "nbconvert_exporter": "python",
   "pygments_lexer": "ipython3",
   "version": "3.7.7"
  },
  "orig_nbformat": 4,
  "vscode": {
   "interpreter": {
    "hash": "31f2aee4e71d21fbe5cf8b01ff0e069b9275f58929596ceb00d14d90e3e16cd6"
   }
  }
 },
 "nbformat": 4,
 "nbformat_minor": 2
}
